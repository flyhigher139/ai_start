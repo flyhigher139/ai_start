{
 "cells": [
  {
   "cell_type": "code",
   "execution_count": 3,
   "metadata": {
    "collapsed": true,
    "ExecuteTime": {
     "end_time": "2023-07-11T01:49:02.825847Z",
     "start_time": "2023-07-11T01:49:01.059567Z"
    }
   },
   "outputs": [
    {
     "name": "stdout",
     "output_type": "stream",
     "text": [
      "好评例子的评分 : 0.041105\n",
      "差评例子的评分 : 0.005775\n"
     ]
    }
   ],
   "source": [
    "import openai\n",
    "import os\n",
    "from openai.embeddings_utils import cosine_similarity, get_embedding\n",
    "\n",
    "openai.api_type = \"azure\"\n",
    "openai.api_base = os.getenv(\"AZURE_OPENAI_ENDPOINT\")\n",
    "openai.api_version = \"2023-05-15\"\n",
    "openai.api_key = os.getenv(\"AZURE_OPENAI_KEY\")\n",
    "\n",
    "EMBEDDING_MODEL = \"text-embedding-ada-002\"\n",
    "\n",
    "# 获取\"好评\"和\"差评\"的embedding\n",
    "positive_preview = get_embedding(\"好评\", EMBEDDING_MODEL)\n",
    "negative_preview = get_embedding(\"差评\", EMBEDDING_MODEL)\n",
    "\n",
    "positive_example = get_embedding(\n",
    "    \"买的银色版真的很好看，一天就到了，晚上就开始拿起来完系统很丝滑流畅，做工扎实，手感细腻，很精致哦苹果一如既往的好品质\", EMBEDDING_MODEL)\n",
    "negative_example = get_embedding(\"降价厉害，保价不合理，不推荐\", EMBEDDING_MODEL)\n",
    "\n",
    "def get_score(sample_embedding):\n",
    "    return cosine_similarity(sample_embedding, positive_preview) - cosine_similarity(sample_embedding, negative_preview)\n",
    "\n",
    "positive_score = get_score(positive_example)\n",
    "negative_score = get_score(negative_example)\n",
    "print(\"好评例子的评分 : %f\" % positive_score)\n",
    "print(\"差评例子的评分 : %f\" % negative_score)\n",
    "\n"
   ]
  },
  {
   "cell_type": "markdown",
   "source": [],
   "metadata": {
    "collapsed": false
   }
  },
  {
   "cell_type": "markdown",
   "source": [],
   "metadata": {
    "collapsed": false
   }
  }
 ],
 "metadata": {
  "kernelspec": {
   "display_name": "Python 3",
   "language": "python",
   "name": "python3"
  },
  "language_info": {
   "codemirror_mode": {
    "name": "ipython",
    "version": 2
   },
   "file_extension": ".py",
   "mimetype": "text/x-python",
   "name": "python",
   "nbconvert_exporter": "python",
   "pygments_lexer": "ipython2",
   "version": "2.7.6"
  }
 },
 "nbformat": 4,
 "nbformat_minor": 0
}
