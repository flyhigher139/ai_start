{
 "cells": [
  {
   "cell_type": "code",
   "execution_count": 1,
   "outputs": [
    {
     "name": "stdout",
     "output_type": "stream",
     "text": [
      "\n",
      "\n",
      "亲，您好，感谢您的选购！您的订单已发货，订单号2021AEDG，预计3天内送到，由于天气影响物流时间比原定耗时，希望您能够理解，再次感谢您的支持！\n",
      "\n",
      "\n",
      "亲， 您的订单2021AEDG已经发货，预计3天内会送达。由于天气的原因物流比原来延迟了，而我们很抱歉。谢谢您选购我们的商品，祝您生活愉快！\n",
      "\n",
      "\n",
      "亲，您的订单2021AEDG已发货，大概要3天左右就能收到。因为天气的原因，送货的时间比之前有点长，我们很抱歉，也感谢您对我们的支持！\n",
      "temperature=0.0:  \n",
      "\n",
      "亲，您的订单2021AEDG已经发货，预计在3天之内会送达。很抱歉因为天气的原因物流时间比原来长，感谢您选购我们的商品，祝您购物愉快！ \n",
      "\n",
      "temperature=0.8:  \n",
      "\n",
      "亲，你的订单2021AEDG已经发货在路上了，预计会在3天之内送达，由于天气的原因物流时间有延迟，还请耐心等待。非常感谢你对我们商品的信任，我们一定会提供更好的服务！希望下次订购我们的产品能给你带来更多的满意！ \n",
      "\n",
      "temperature=1.6:  \n",
      "\n",
      "亲，多谢您浏览和选购我们的商品！您的订单2021AEDG已发货，预 \n",
      "\n"
     ]
    }
   ],
   "source": [
    "import os\n",
    "import openai\n",
    "\n",
    "openai.api_type = \"azure\"\n",
    "openai.api_base = os.getenv(\"AZURE_OPENAI_ENDPOINT\")\n",
    "openai.api_version = \"2023-05-15\"\n",
    "openai.api_key = os.getenv(\"AZURE_OPENAI_KEY\")\n",
    "\n",
    "COMPLETION_MODEL = \"text-davinci-003\"\n",
    "\n",
    "prompt = '请你用朋友的语气回复给到客户，并称他为“亲”，他的订单已经发货在路上了，预计在3天之内会送达，订单号2021AEDG，我们很抱歉因为天气的原因物流时间比原来长，感谢他选购我们的商品。'\n",
    "\n",
    "def get_response(prompt, temperature = 1.0):\n",
    "    completions = openai.Completion.create (engine=COMPLETION_MODEL,\n",
    "                                            prompt=prompt,\n",
    "                                            max_tokens=1024,\n",
    "                                            n=1,\n",
    "                                            stop=None,\n",
    "                                            temperature=temperature, )\n",
    "    message = completions.choices[0].text\n",
    "    return message\n",
    "\n",
    "for i in range(3):\n",
    "    msg = get_response(prompt)\n",
    "    print(msg)\n",
    "\n",
    "for i in range(3):\n",
    "    temperature = i * 0.8\n",
    "    msg = get_response(prompt, temperature)\n",
    "\n",
    "    print(\"temperature={}: \".format(temperature), msg, \"\\n\")\n"
   ],
   "metadata": {
    "collapsed": false,
    "ExecuteTime": {
     "end_time": "2023-07-12T06:32:40.791781Z",
     "start_time": "2023-07-12T06:32:11.806048Z"
    }
   }
  },
  {
   "cell_type": "markdown",
   "source": [
    "# Completion接口的基本使用"
   ],
   "metadata": {
    "collapsed": false
   }
  },
  {
   "cell_type": "code",
   "execution_count": 2,
   "outputs": [
    {
     "name": "stdout",
     "output_type": "stream",
     "text": [
      "\n",
      "鱼香肉丝的做法如下：\n",
      " \n",
      "1.准备材料：猪肉绞碎约300克、玉米淀粉10克、酱油10克、盐5克、淀粉10克、水适量、冬菜50克、胡萝卜50克、洋葱30克、蒜苗20克、干红辣椒2克、九谷酱油10克、香油5克、料酒10克、糖5克、生抽、老抽各10克；\n",
      "\n",
      "2.将猪肉绞碎加玉米淀粉、酱油、盐、淀粉、水混合，卷成肉丸；\n",
      "\n",
      "3.将冬菜、胡萝卜、洋葱、蒜苗洗净；\n",
      "\n",
      "4.将洋葱、蒜苗切片，冬菜、胡萝卜切成丝；\n",
      "\n",
      "5.将第4步的蔬菜丝和第1步的肉丸一起加入糖、干红辣椒、料酒、九谷酱油、香油、生抽、老抽拌匀；\n",
      "\n",
      "6.将锅烧热，倒入混合肉丸的蔬菜丝；\n",
      "\n",
      "7.煸炒至蔬菜变软即可装盘食用。\n"
     ]
    }
   ],
   "source": [
    "question =  \"\"\"\n",
    "Q : 鱼香肉丝怎么做？\n",
    "A :\n",
    "\"\"\"\n",
    "print(get_response(question))"
   ],
   "metadata": {
    "collapsed": false,
    "ExecuteTime": {
     "end_time": "2023-07-12T06:33:13.101909Z",
     "start_time": "2023-07-12T06:32:51.059426Z"
    }
   }
  },
  {
   "cell_type": "markdown",
   "source": [
    "# Completion中增加上下文"
   ],
   "metadata": {
    "collapsed": false
   }
  },
  {
   "cell_type": "code",
   "execution_count": 3,
   "outputs": [
    {
     "name": "stdout",
     "output_type": "stream",
     "text": [
      "1.准备好食材：500克牛肉，少许薑片，少许八角，少许花椒粉，少许料酒，200毫升蚝油，2勺白糖，2勺生抽，2勺老抽，5勺醋，3勺淀粉。\n",
      "2.将牛肉洗净，切成丁，加入料酒、花椒粉，腌制15分钟。\n",
      "3.准备蚝油料：蚝油，白糖，生抽，老抽，醋，淀粉混合均匀。\n",
      "4.将洗净的薑片，八角放入锅中，加入适量的清水，烧开后放入牛肉，焯烫至牛肉不嫩，捞出备用。\n",
      "5.将锅内剩余的汤汁全部去掉，留少许汤油，加入牛肉，炒制至断生，把蚝油料倒入锅中，大火翻炒2分钟即可。\n"
     ]
    }
   ],
   "source": [
    "\n",
    "question =  \"\"\"\n",
    "Q : 鱼香肉丝怎么做？\n",
    "A :\n",
    "1.准备好食材：500克猪里脊肉，2个青椒，2个红椒，1个洋葱，2勺蒜蓉，3勺白糖，适量料酒，半勺盐，2勺生抽，2勺酱油，2勺醋，少许花椒粉，半勺老抽，适量水淀粉。\n",
    "2.将猪里脊肉洗净，沥干水分，放入料酒、盐，抓捏抓匀，腌制20分钟。\n",
    "3.将青红椒洗净，切成丝，洋葱洗净，切成葱花，蒜末拌入小苏打水中腌制。\n",
    "4.将猪里脊肉切成丝，放入锅中，加入洋葱，炒制至断生，加入青红椒，炒匀，加入腌制好的蒜末，炒制至断生。\n",
    "5.将白糖、生抽、酱油、醋、花椒粉、老抽、水淀粉倒入锅中，翻炒匀，用小火收汁，调味即可。\n",
    "\n",
    "Q : 那蚝油牛肉呢？\n",
    "A :\n",
    "\"\"\"\n",
    "print(get_response(question))"
   ],
   "metadata": {
    "collapsed": false,
    "ExecuteTime": {
     "end_time": "2023-07-12T06:33:48.905622Z",
     "start_time": "2023-07-12T06:33:35.759690Z"
    }
   }
  },
  {
   "cell_type": "markdown",
   "source": [
    "# 聊天机器人"
   ],
   "metadata": {
    "collapsed": false
   }
  },
  {
   "cell_type": "code",
   "execution_count": 5,
   "outputs": [
    {
     "name": "stdout",
     "output_type": "stream",
     "text": [
      "你好，我是一个聊天机器人，请你提出你的问题吧?\n",
      "设计一个Go算法题，并提供答案\n",
      "题目：给定一个整数数组 nums 和一个目标值 target，请你在该数组中找出和为目标值的那两个整数，并返回他们的数组下标。\n",
      " \n",
      " 答案：\n",
      " func twoSum(nums []int, target int) []int {\n",
      "    m := make(map[int]int)\n",
      "    for i, num := range nums {\n",
      "        if j, ok := m[target-num]; ok {\n",
      "            return []int{j, i}\n",
      "        }\n",
      "        m[num] = i\n",
      "    }\n",
      "    return nil\n",
      "}\n",
      "再来一个\n",
      "题目：给定一个整数数组 nums 和一个目标值 target，请你找出数组中和为目标值的连续的子数组的个数。\n",
      " \n",
      " 答案：\n",
      " func subarraySum(nums []int, target int) int {\n",
      "    count := 0\n",
      "    sum := 0\n",
      "    m := make(map[int]int)\n",
      "    m[0] = 1\n",
      "    for _, num := range nums {\n",
      "        sum += num\n",
      "        if v, ok := m[sum-target]; ok {\n",
      "            count += v\n",
      "        }\n",
      "        m[sum]++\n",
      "    }\n",
      "    return count\n",
      "}\n",
      "exit\n",
      "Goodbye!\n"
     ]
    }
   ],
   "source": [
    "\n",
    "import openai\n",
    "import os\n",
    "\n",
    "openai.api_type = \"azure\"\n",
    "openai.api_base = os.getenv(\"AZURE_OPENAI_ENDPOINT\")\n",
    "openai.api_version = \"2023-05-15\"\n",
    "openai.api_key = os.getenv(\"AZURE_OPENAI_KEY\")\n",
    "\n",
    "COMPLETION_MODEL = \"text-davinci-003\"\n",
    "\n",
    "def ask_gpt3(prompt):\n",
    "    response = openai.Completion.create(\n",
    "        engine=COMPLETION_MODEL,\n",
    "        prompt=prompt,\n",
    "        max_tokens=512,\n",
    "        n=1,\n",
    "        stop=None,\n",
    "        temperature=0.5,\n",
    "    )\n",
    "\n",
    "    message = response.choices[0].text.strip()\n",
    "    return message\n",
    "\n",
    "print(\"你好，我是一个聊天机器人，请你提出你的问题吧?\")\n",
    "\n",
    "questions = []\n",
    "answers = []\n",
    "\n",
    "def generate_prompt(prompt, questions, answers):\n",
    "    num = len(answers)\n",
    "    for i in range(num):\n",
    "        prompt += \"\\n Q : \" + questions[i]\n",
    "        prompt += \"\\n A : \" + answers[i]\n",
    "    prompt += \"\\n Q : \" + questions[num] + \"\\n A : \"\n",
    "    return prompt\n",
    "\n",
    "while True:\n",
    "    user_input = input(\"> \")\n",
    "    questions.append(user_input)\n",
    "    print(user_input)\n",
    "    if user_input.lower() in [\"bye\", \"goodbye\", \"exit\"]:\n",
    "        print(\"Goodbye!\")\n",
    "        break\n",
    "\n",
    "    prompt = generate_prompt(\"\", questions, answers)\n",
    "\n",
    "    answer = ask_gpt3(prompt)\n",
    "    print(answer)\n",
    "    answers.append(answer)"
   ],
   "metadata": {
    "collapsed": false,
    "ExecuteTime": {
     "end_time": "2023-07-12T06:53:41.100028Z",
     "start_time": "2023-07-12T06:52:43.382277Z"
    }
   }
  },
  {
   "cell_type": "markdown",
   "source": [
    "#  Few-Shots Learning（少样本学习）\n",
    "\n",
    "prompt 里先写一两个案例，然后在附加内容正文，之后把拼在一起的完整内容，发给ChatGPT调用Completion接口。"
   ],
   "metadata": {
    "collapsed": false
   }
  },
  {
   "cell_type": "code",
   "execution_count": 6,
   "outputs": [],
   "source": [
    "prompts = \"\"\"判断一下用户的评论情感上是正面的还是负面的\n",
    "评论：买的银色版真的很好看，一天就到了，晚上就开始拿起来完系统很丝滑流畅，做工扎实，手感细腻，很精致哦苹果一如既往的好品质\n",
    "情感：正面\n",
    "\n",
    "评论：随意降价，不予价保，服务态度差\n",
    "情感：负面\n",
    "\"\"\""
   ],
   "metadata": {
    "collapsed": false,
    "ExecuteTime": {
     "end_time": "2023-07-12T07:04:59.017983Z",
     "start_time": "2023-07-12T07:04:59.012673Z"
    }
   }
  },
  {
   "cell_type": "code",
   "execution_count": 7,
   "outputs": [
    {
     "name": "stdout",
     "output_type": "stream",
     "text": [
      "正面\n"
     ]
    }
   ],
   "source": [
    "good_case = prompts + \"\"\"\n",
    "评论：外形外观：苹果审美一直很好，金色非常漂亮\n",
    "拍照效果：14pro升级的4800万像素真的是没的说，太好了，\n",
    "运行速度：苹果的反应速度好，用上三五年也不会卡顿的，之前的7P用到现在也不卡\n",
    "其他特色：14pro的磨砂金真的太好看了，不太高调，也不至于没有特点，非常耐看，很好的\n",
    "情感：\n",
    "\"\"\"\n",
    "\n",
    "print(get_response(good_case))"
   ],
   "metadata": {
    "collapsed": false,
    "ExecuteTime": {
     "end_time": "2023-07-12T07:05:02.787105Z",
     "start_time": "2023-07-12T07:05:01.247993Z"
    }
   }
  },
  {
   "cell_type": "code",
   "execution_count": 8,
   "outputs": [
    {
     "name": "stdout",
     "output_type": "stream",
     "text": [
      "：负面\n"
     ]
    }
   ],
   "source": [
    "bad_case = prompts + \"\"\"\n",
    "评论：信号不好电池也不耐电不推荐购买\n",
    "情感\n",
    "\"\"\"\n",
    "\n",
    "print(get_response(bad_case))"
   ],
   "metadata": {
    "collapsed": false,
    "ExecuteTime": {
     "end_time": "2023-07-12T07:05:05.450442Z",
     "start_time": "2023-07-12T07:05:04.655856Z"
    }
   }
  },
  {
   "cell_type": "code",
   "execution_count": null,
   "outputs": [],
   "source": [],
   "metadata": {
    "collapsed": false
   }
  }
 ],
 "metadata": {
  "kernelspec": {
   "display_name": "Python 3",
   "language": "python",
   "name": "python3"
  },
  "language_info": {
   "codemirror_mode": {
    "name": "ipython",
    "version": 2
   },
   "file_extension": ".py",
   "mimetype": "text/x-python",
   "name": "python",
   "nbconvert_exporter": "python",
   "pygments_lexer": "ipython2",
   "version": "2.7.6"
  }
 },
 "nbformat": 4,
 "nbformat_minor": 0
}
