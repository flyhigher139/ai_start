{
 "cells": [
  {
   "cell_type": "code",
   "execution_count": 2,
   "id": "initial_id",
   "metadata": {
    "collapsed": true,
    "ExecuteTime": {
     "end_time": "2023-09-27T06:57:40.280202Z",
     "start_time": "2023-09-27T06:57:40.113146Z"
    }
   },
   "outputs": [],
   "source": [
    "import openai, os\n",
    "\n",
    "openai.api_type = \"azure\"\n",
    "openai.api_base = os.getenv(\"AZURE_OPENAI_ENDPOINT\")\n",
    "openai.api_version = \"2023-05-15\"\n",
    "openai.api_key = os.getenv(\"AZURE_OPENAI_KEY\")\n",
    "\n",
    "deployment_name = \"text-davinci-003\""
   ]
  },
  {
   "cell_type": "markdown",
   "source": [
    "# Completion 接口应用\n",
    "\n",
    "Completion 接口用于内容补全"
   ],
   "metadata": {
    "collapsed": false
   },
   "id": "f058b882c0db4fe1"
  },
  {
   "cell_type": "code",
   "execution_count": 2,
   "outputs": [
    {
     "name": "stdout",
     "output_type": "stream",
     "text": [
      "墨问西东是一家专注于智能家居技术研发的高科技公司，主要从事智能家居产品的研发、生产、销售和服务。公司拥有一支技术精湛、经验丰富的研发团队，致力于为客户提供最先进的智能家居解决方案。\n"
     ]
    }
   ],
   "source": [
    "prompt = [\"问题：介绍一下墨问西东是什么类型的公司\\n回答：\"]\n",
    "response = openai.Completion.create(engine=\"text-davinci-003\", prompt=prompt, temperature=0, max_tokens=1024)\n",
    "print(response['choices'][0]['text']) "
   ],
   "metadata": {
    "collapsed": false,
    "ExecuteTime": {
     "end_time": "2023-09-24T14:59:29.562674Z",
     "start_time": "2023-09-24T14:59:19.120106Z"
    }
   },
   "id": "dd80ff27f11cb08b"
  },
  {
   "cell_type": "code",
   "execution_count": 14,
   "outputs": [
    {
     "name": "stdout",
     "output_type": "stream",
     "text": [
      "\n",
      "\n",
      "墨问西东是一家专注于智能家居、智能安防、智能家电、智能家庭网络等智能科技领域的高科技企业。公司致力于为客户提供全方位的智能家居解决方案，以满足客户的智能家居需求。公司拥有一支专业的技术团队，以及一套完善的研发体系，为客户提供最先进的智能家居解决方案。\n"
     ]
    }
   ],
   "source": [
    "engine = \"text-davinci-003\"\n",
    "# engine = \"gpt-35-turbo\"\n",
    "\n",
    "prompt = [\"问题：介绍一下墨问西东是什么类型的公司\"]\n",
    "response = openai.Completion.create(engine=engine, prompt=prompt, temperature=0, max_tokens=1024)\n",
    "# print(response)\n",
    "print(response[\"choices\"][0][\"text\"])"
   ],
   "metadata": {
    "collapsed": false,
    "ExecuteTime": {
     "end_time": "2023-09-24T15:17:50.050967Z",
     "start_time": "2023-09-24T15:17:37.578019Z"
    }
   },
   "id": "d12d0634f64c03c3"
  },
  {
   "cell_type": "code",
   "execution_count": 12,
   "outputs": [
    {
     "name": "stdout",
     "output_type": "stream",
     "text": [
      "\n",
      "\n",
      "I am a person who is interested in learning new things and exploring the world. I am passionate about helping others and making a positive impact in the world.\n"
     ]
    }
   ],
   "source": [
    "prompt = [\"Can you tell me who are you\"]\n",
    "\n",
    "response = openai.Completion.create(engine=engine, prompt=prompt, temperature=0.1, max_tokens=1024)\n",
    "print(response[\"choices\"][0][\"text\"])"
   ],
   "metadata": {
    "collapsed": false,
    "ExecuteTime": {
     "end_time": "2023-09-24T15:11:32.797955Z",
     "start_time": "2023-09-24T15:11:31.801828Z"
    }
   },
   "id": "8d1c4204f8fcff40"
  },
  {
   "cell_type": "code",
   "execution_count": 13,
   "outputs": [
    {
     "data": {
      "text/plain": "<OpenAIObject text_completion id=cmpl-82L3c4nEuwAUBxpLTpfaxwTZKO2QZ at 0x11881de00> JSON: {\n  \"id\": \"cmpl-82L3c4nEuwAUBxpLTpfaxwTZKO2QZ\",\n  \"object\": \"text_completion\",\n  \"created\": 1695568292,\n  \"model\": \"text-davinci-003\",\n  \"choices\": [\n    {\n      \"text\": \"\\n\\nI am a person who is interested in learning new things and exploring the world. I am passionate about helping others and making a positive impact in the world.\",\n      \"index\": 0,\n      \"finish_reason\": \"stop\",\n      \"logprobs\": null\n    }\n  ],\n  \"usage\": {\n    \"completion_tokens\": 33,\n    \"prompt_tokens\": 7,\n    \"total_tokens\": 40\n  }\n}"
     },
     "execution_count": 13,
     "metadata": {},
     "output_type": "execute_result"
    }
   ],
   "source": [
    "response"
   ],
   "metadata": {
    "collapsed": false,
    "ExecuteTime": {
     "end_time": "2023-09-24T15:11:56.263207Z",
     "start_time": "2023-09-24T15:11:56.256777Z"
    }
   },
   "id": "5fe83375787c50aa"
  },
  {
   "cell_type": "markdown",
   "source": [
    "# ChatCompletion接口应用\n",
    "\n",
    "ChatCompletion 接口对聊天场景做了优化，统一规范了格式，提供了`system`, `assistent` 和 `user` 三种角色，分别对应系统、机器人和用户，其中，system可以理解为我们对当前上下午设定的机器人角色背景。"
   ],
   "metadata": {
    "collapsed": false
   },
   "id": "84807781aba539b6"
  },
  {
   "cell_type": "code",
   "execution_count": 5,
   "outputs": [],
   "source": [
    "engine = \"gpt-35-turbo\"\n",
    "\n",
    "response = openai.ChatCompletion.create(engine=engine, \n",
    "                                        messages=[\n",
    "                                            {\"role\":\"system\", \"content\":\"你是一个有用的助理\"},\n",
    "                                            {\"role\":\"user\", \"content\":\"你是谁?\"},\n",
    "                                        ],\n",
    "                                        temperature=0.1,\n",
    "                                        max_tokens=1024\n",
    "                                        )"
   ],
   "metadata": {
    "collapsed": false,
    "ExecuteTime": {
     "end_time": "2023-09-27T06:59:25.813984Z",
     "start_time": "2023-09-27T06:59:24.751005Z"
    }
   },
   "id": "2b244b7d0a2b9d5"
  },
  {
   "cell_type": "code",
   "execution_count": 6,
   "outputs": [
    {
     "name": "stdout",
     "output_type": "stream",
     "text": [
      "我是一个AI语言模型，可以回答你的问题和提供帮助。\n"
     ]
    },
    {
     "data": {
      "text/plain": "<OpenAIObject chat.completion id=chatcmpl-83Io1eqGmhzUJd5JzyigDozpH8Gy0 at 0x109454e00> JSON: {\n  \"id\": \"chatcmpl-83Io1eqGmhzUJd5JzyigDozpH8Gy0\",\n  \"object\": \"chat.completion\",\n  \"created\": 1695797965,\n  \"model\": \"gpt-35-turbo\",\n  \"choices\": [\n    {\n      \"index\": 0,\n      \"finish_reason\": \"stop\",\n      \"message\": {\n        \"role\": \"assistant\",\n        \"content\": \"\\u6211\\u662f\\u4e00\\u4e2aAI\\u8bed\\u8a00\\u6a21\\u578b\\uff0c\\u53ef\\u4ee5\\u56de\\u7b54\\u4f60\\u7684\\u95ee\\u9898\\u548c\\u63d0\\u4f9b\\u5e2e\\u52a9\\u3002\"\n      }\n    }\n  ],\n  \"usage\": {\n    \"completion_tokens\": 24,\n    \"prompt_tokens\": 27,\n    \"total_tokens\": 51\n  }\n}"
     },
     "execution_count": 6,
     "metadata": {},
     "output_type": "execute_result"
    }
   ],
   "source": [
    "print(response[\"choices\"][0][\"message\"][\"content\"])\n",
    "response"
   ],
   "metadata": {
    "collapsed": false,
    "ExecuteTime": {
     "end_time": "2023-09-27T06:59:29.160381Z",
     "start_time": "2023-09-27T06:59:29.153005Z"
    }
   },
   "id": "e72573d8357d7c51"
  },
  {
   "cell_type": "markdown",
   "source": [
    "# 让GPT记住前面的聊天记录"
   ],
   "metadata": {
    "collapsed": false
   },
   "id": "76ee589a89ad498b"
  },
  {
   "cell_type": "code",
   "execution_count": 14,
   "outputs": [],
   "source": [
    "def create_msg(prompt:str, is_user:bool=True) -> dict:\n",
    "    role = \"user\" if is_user else \"assistant\"\n",
    "    return {\"role\":role, \"content\":prompt}\n",
    "    "
   ],
   "metadata": {
    "collapsed": false,
    "ExecuteTime": {
     "end_time": "2023-09-26T03:30:22.895329Z",
     "start_time": "2023-09-26T03:30:22.891002Z"
    }
   },
   "id": "81121460e21b8055"
  },
  {
   "cell_type": "markdown",
   "source": [
    "## 没有记忆的"
   ],
   "metadata": {
    "collapsed": false
   },
   "id": "58d2efd614404d10"
  },
  {
   "cell_type": "code",
   "execution_count": 15,
   "outputs": [],
   "source": [
    "def chatCompletionInstant(prompt, temperature=0.1, max_tokens=1024, n=1) -> (str, dict):\n",
    "    msg = [{\"role\": \"system\", \"content\": \"you are a helpful assistant\"}, create_msg(prompt)]\n",
    "    \n",
    "    response = openai.ChatCompletion.create(engine=engine, \n",
    "                                            messages=msg,\n",
    "                                            temperature=temperature,\n",
    "                                            max_tokens=max_tokens,\n",
    "                                            n=n)\n",
    "    return response[\"choices\"][0][\"message\"][\"content\"], response"
   ],
   "metadata": {
    "collapsed": false,
    "ExecuteTime": {
     "end_time": "2023-09-26T03:30:25.184202Z",
     "start_time": "2023-09-26T03:30:25.182394Z"
    }
   },
   "id": "918397b20339a451"
  },
  {
   "cell_type": "code",
   "execution_count": 16,
   "outputs": [
    {
     "name": "stdout",
     "output_type": "stream",
     "text": [
      "光刻机是一种半导体制造设备，用于在芯片表面上制造微小的图案和结构。\n",
      "抱歉，我无法回答这个问题，因为我无法访问您的之前的对话记录。\n"
     ]
    }
   ],
   "source": [
    "res, _ = chatCompletionInstant(\"20个字简单说说什么是光刻机\")\n",
    "print(res)\n",
    "res, _ = chatCompletionInstant(\"我前面说了什么\")\n",
    "print(res)"
   ],
   "metadata": {
    "collapsed": false,
    "ExecuteTime": {
     "end_time": "2023-09-26T03:30:33.163700Z",
     "start_time": "2023-09-26T03:30:29.778448Z"
    }
   },
   "id": "b05380c1682a3408"
  },
  {
   "cell_type": "markdown",
   "source": [
    "## 有记忆的"
   ],
   "metadata": {
    "collapsed": false
   },
   "id": "8fccca9589717cb4"
  },
  {
   "cell_type": "code",
   "execution_count": 18,
   "outputs": [],
   "source": [
    "messages = [{\"role\":\"system\", \"content\":\"you are a helpful assistant\"}]\n",
    "def chatComplete(prompt, temperature=0.1, max_tokens=1024, top_p=1, n=1):\n",
    "    messages.append(create_msg(prompt))\n",
    "    response = openai.ChatCompletion.create(engine=engine,\n",
    "                                            messages=messages,\n",
    "                                            temperature=temperature,\n",
    "                                            max_tokens=max_tokens,\n",
    "                                            n=n,\n",
    "                                            top_p=top_p\n",
    "                                            )\n",
    "    return response[\"choices\"][0][\"message\"][\"content\"], response\n"
   ],
   "metadata": {
    "collapsed": false,
    "ExecuteTime": {
     "end_time": "2023-09-26T05:50:02.605470Z",
     "start_time": "2023-09-26T05:50:02.595762Z"
    }
   },
   "id": "262241e56b40de48"
  },
  {
   "cell_type": "code",
   "execution_count": 19,
   "outputs": [
    {
     "name": "stdout",
     "output_type": "stream",
     "text": [
      "光刻机是一种半导体制造设备，用于在芯片表面上制造微小的图案和结构。\n",
      "您前面说了\"20个字简单说说什么是光刻机\"。\n"
     ]
    }
   ],
   "source": [
    "res, _ = chatComplete(\"20个字简单说说什么是光刻机\")\n",
    "print(res)\n",
    "res, _ = chatComplete(\"我前面说了什么\")\n",
    "print(res)"
   ],
   "metadata": {
    "collapsed": false,
    "ExecuteTime": {
     "end_time": "2023-09-26T05:50:12.183451Z",
     "start_time": "2023-09-26T05:50:05.436965Z"
    }
   },
   "id": "d0a6a96cb520ddef"
  },
  {
   "cell_type": "code",
   "execution_count": 20,
   "outputs": [
    {
     "data": {
      "text/plain": "[{'role': 'system', 'content': 'you are a helpful assistant'},\n {'role': 'user', 'content': '20个字简单说说什么是光刻机'},\n {'role': 'user', 'content': '我前面说了什么'}]"
     },
     "execution_count": 20,
     "metadata": {},
     "output_type": "execute_result"
    }
   ],
   "source": [
    "messages"
   ],
   "metadata": {
    "collapsed": false,
    "ExecuteTime": {
     "end_time": "2023-09-26T05:50:50.267125Z",
     "start_time": "2023-09-26T05:50:50.248512Z"
    }
   },
   "id": "16bce5cac040297"
  },
  {
   "cell_type": "markdown",
   "source": [
    "# Token 计算"
   ],
   "metadata": {
    "collapsed": false
   },
   "id": "11be9ac9f087f8"
  },
  {
   "cell_type": "code",
   "execution_count": 21,
   "outputs": [
    {
     "name": "stdout",
     "output_type": "stream",
     "text": [
      "Prompt_tokens: 25\n"
     ]
    }
   ],
   "source": [
    "import tiktoken\n",
    "\n",
    "encoding = tiktoken.encoding_for_model(\"gpt-3.5-turbo-0613\")\n",
    "\n",
    "# 去掉 Key, 只保留 Value\n",
    "messages=[\n",
    "    {\"system\", \"You are a helpful assistant.\"},\n",
    "    {\"user\",  \"Can you tell me who are you?\"},\n",
    "]\n",
    "\n",
    "print(f\"Prompt_tokens: {len(encoding.encode(str(messages)))}\")"
   ],
   "metadata": {
    "collapsed": false,
    "ExecuteTime": {
     "end_time": "2023-09-26T06:31:22.132373Z",
     "start_time": "2023-09-26T06:30:24.751707Z"
    }
   },
   "id": "7884a744d26f5a74"
  },
  {
   "cell_type": "code",
   "execution_count": 28,
   "outputs": [
    {
     "name": "stdout",
     "output_type": "stream",
     "text": [
      "Prompt_tokens: 25\n"
     ]
    }
   ],
   "source": [
    "messages=[\n",
    "            {\"role\":\"system\", \"content\":\"You are a helpful assistant.\"},\n",
    "            {\"role\":\"user\", \"content\":\"Can you tell me who are you?\"},\n",
    "        ]\n",
    "msg = [set(d.values()) for d in messages]\n",
    "print(f\"Prompt_tokens: {len(encoding.encode(str(msg)))}\")"
   ],
   "metadata": {
    "collapsed": false,
    "ExecuteTime": {
     "end_time": "2023-09-26T06:37:05.874613Z",
     "start_time": "2023-09-26T06:37:05.870167Z"
    }
   },
   "id": "479bf470e2b750f9"
  },
  {
   "cell_type": "code",
   "execution_count": 29,
   "outputs": [
    {
     "data": {
      "text/plain": "True"
     },
     "execution_count": 29,
     "metadata": {},
     "output_type": "execute_result"
    }
   ],
   "source": [
    "msg==[\n",
    "    {\"system\", \"You are a helpful assistant.\"},\n",
    "    {\"user\",  \"Can you tell me who are you?\"},\n",
    "]"
   ],
   "metadata": {
    "collapsed": false,
    "ExecuteTime": {
     "end_time": "2023-09-26T06:37:08.845475Z",
     "start_time": "2023-09-26T06:37:08.839215Z"
    }
   },
   "id": "1d1386b214a8de22"
  },
  {
   "cell_type": "code",
   "execution_count": 30,
   "outputs": [
    {
     "data": {
      "text/plain": "[{'You are a helpful assistant.', 'system'},\n {'Can you tell me who are you?', 'user'}]"
     },
     "execution_count": 30,
     "metadata": {},
     "output_type": "execute_result"
    }
   ],
   "source": [
    "msg"
   ],
   "metadata": {
    "collapsed": false,
    "ExecuteTime": {
     "end_time": "2023-09-26T06:37:14.360804Z",
     "start_time": "2023-09-26T06:37:14.355923Z"
    }
   },
   "id": "96a097a72da7cb8d"
  },
  {
   "cell_type": "code",
   "execution_count": null,
   "outputs": [],
   "source": [],
   "metadata": {
    "collapsed": false
   },
   "id": "dd1a8e5d5f146c0d"
  }
 ],
 "metadata": {
  "kernelspec": {
   "display_name": "Python 3",
   "language": "python",
   "name": "python3"
  },
  "language_info": {
   "codemirror_mode": {
    "name": "ipython",
    "version": 2
   },
   "file_extension": ".py",
   "mimetype": "text/x-python",
   "name": "python",
   "nbconvert_exporter": "python",
   "pygments_lexer": "ipython2",
   "version": "2.7.6"
  }
 },
 "nbformat": 4,
 "nbformat_minor": 5
}
